{
  "nbformat": 4,
  "nbformat_minor": 0,
  "metadata": {
    "colab": {
      "name": "Untitled0.ipynb",
      "provenance": [],
      "collapsed_sections": []
    },
    "kernelspec": {
      "name": "python3",
      "display_name": "Python 3"
    },
    "language_info": {
      "name": "python"
    }
  },
  "cells": [
    {
      "cell_type": "markdown",
      "metadata": {
        "id": "HpIyHMkXmCGb"
      },
      "source": [
        "**SVM**"
      ]
    },
    {
      "cell_type": "markdown",
      "metadata": {
        "id": "uMYKTHpYsqPc"
      },
      "source": [
        "**Exercise 1**"
      ]
    },
    {
      "cell_type": "code",
      "metadata": {
        "id": "gh4SDaammAHK"
      },
      "source": [
        "\n",
        "from sklearn.datasets import load_iris\n",
        "import numpy as np\n",
        "from sklearn.model_selection import train_test_split\n",
        "import cvxopt"
      ],
      "execution_count": 23,
      "outputs": []
    },
    {
      "cell_type": "code",
      "metadata": {
        "id": "QO6zv2Rjo_ua"
      },
      "source": [
        "iris = load_iris()\n",
        "data_set = iris.data\n",
        "labels = iris.target\n",
        "\n",
        "def build_kernel(data_set, d, kernel_type='linear'):\n",
        "    kernel = np.dot(data_set, data_set.T)\n",
        "    if kernel_type == 'rbf':\n",
        "        sigma = 1.0\n",
        "        objects_count = len(data_set)\n",
        "        b = np.ones((len(data_set), 1))\n",
        "        kernel -= 0.5 * (np.dot((np.diag(kernel)*np.ones((1, objects_count))).T, b.T)\n",
        "                         + np.dot(b, (np.diag(kernel) * np.ones((1, objects_count))).T.T))\n",
        "        kernel = np.exp(kernel / (2. * sigma ** 2))\n",
        "    elif kernel_type == 'poly':\n",
        "        kernel = kernel**d\n",
        "    return kernel"
      ],
      "execution_count": 24,
      "outputs": []
    },
    {
      "cell_type": "code",
      "metadata": {
        "colab": {
          "base_uri": "https://localhost:8080/"
        },
        "id": "hDDeZMnCpHgM",
        "outputId": "1acecbce-a9e5-44a3-81f0-b8ccfb2cafae"
      },
      "source": [
        "build_kernel(data_set,2 , kernel_type='poly')"
      ],
      "execution_count": 25,
      "outputs": [
        {
          "output_type": "execute_result",
          "data": {
            "text/plain": [
              "array([[1620.8676, 1405.5001, 1371.2209, ..., 2634.7689, 2656.3716,\n",
              "        2312.6481],\n",
              "       [1405.5001, 1225.7001, 1189.5601, ..., 2355.1609, 2361.96  ,\n",
              "        2062.0681],\n",
              "       [1371.2209, 1189.5601, 1160.0836, ..., 2238.2361, 2256.25  ,\n",
              "        1964.2624],\n",
              "       ...,\n",
              "       [2634.7689, 2355.1609, 2238.2361, ..., 6771.6441, 6918.9124,\n",
              "        6001.6009],\n",
              "       [2656.3716, 2361.96  , 2256.25  , ..., 6918.9124, 7131.8025,\n",
              "        6155.9716],\n",
              "       [2312.6481, 2062.0681, 1964.2624, ..., 6001.6009, 6155.9716,\n",
              "        5337.7636]])"
            ]
          },
          "metadata": {
            "tags": []
          },
          "execution_count": 25
        }
      ]
    },
    {
      "cell_type": "markdown",
      "metadata": {
        "id": "5m2HxfX7qWxQ"
      },
      "source": [
        "**Excercise 2**"
      ]
    },
    {
      "cell_type": "code",
      "metadata": {
        "id": "ULkpoHlEqa9j"
      },
      "source": [
        "def choose_set_for_label(data_set, label):\n",
        "    train_data_set, test_data_set, train_labels, test_labels = train_test_split(data_set, label)\n",
        "    return train_data_set, test_data_set, train_labels, test_labels"
      ],
      "execution_count": 26,
      "outputs": []
    },
    {
      "cell_type": "code",
      "metadata": {
        "id": "xjS5XJCQsGE8"
      },
      "source": [
        "def get_labels_count(data_set):\n",
        "    return len(data_set)"
      ],
      "execution_count": 27,
      "outputs": []
    },
    {
      "cell_type": "code",
      "metadata": {
        "id": "LXaxJnkosI9V"
      },
      "source": [
        "def train(train_data_set, train_labels, kernel_type='linear', C=10, threshold=1e-5):\n",
        "    kernel = build_kernel(train_data_set, kernel_type=kernel_type)\n",
        "\n",
        "    P = train_labels * train_labels.transpose() * kernel\n",
        "    q = -np.ones((objects_count, 1))\n",
        "    G = np.concatenate((np.eye(objects_count), -np.eye(objects_count)))\n",
        "    h = np.concatenate((C * np.ones((objects_count, 1)), np.zeros((objects_count, 1))))\n",
        "\n",
        "    A = train_labels.reshape(1, objects_count)\n",
        "    A = A.astype(float)\n",
        "    b = 0.0\n",
        "\n",
        "    sol = cvxopt.solvers.qp(cvxopt.matrix(P), cvxopt.matrix(q), cvxopt.matrix(G), cvxopt.matrix(h), cvxopt.matrix(A), cvxopt.matrix(b))\n",
        "\n",
        "    lambdas = np.array(sol['x'])\n",
        "\n",
        "    support_vectors_id = np.where(lambdas > threshold)[0]\n",
        "    vector_number = len(support_vectors_id)\n",
        "    support_vectors = train_data_set[support_vectors_id, :]\n",
        "\n",
        "    lambdas = lambdas[support_vectors_id]\n",
        "    targets = train_labels[support_vectors_id]\n",
        "\n",
        "    b = np.sum(targets)\n",
        "    for n in range(vector_number):\n",
        "        b -= np.sum(lambdas * targets * np.reshape(kernel[support_vectors_id[n], support_vectors_id], (vector_number, 1)))\n",
        "    b /= len(lambdas)\n",
        "\n",
        "    return lambdas, support_vectors, support_vectors_id, b, targets, vector_number\n",
        "\n",
        "def build_kernel(data_set, kernel_type='linear'):\n",
        "    kernel = np.dot(data_set, data_set.T)\n",
        "    if kernel_type == 'rbf':\n",
        "        sigma = 1.0\n",
        "        objects_count = len(data_set)\n",
        "        b = np.ones((len(data_set), 1))\n",
        "        kernel -= 0.5 * (np.dot((np.diag(kernel)*np.ones((1, objects_count))).T, b.T)\n",
        "                         + np.dot(b, (np.diag(kernel) * np.ones((1, objects_count))).T.T))\n",
        "        kernel = np.exp(kernel / (2. * sigma ** 2))\n",
        "    return kernel\n",
        "\n",
        "def classify_rbf(test_data_set, train_data_set, lambdas, targets, b, vector_number, support_vectors, support_vectors_id):\n",
        "    kernel = np.dot(test_data_set, support_vectors.T)\n",
        "    sigma = 1.0\n",
        "    #K = np.dot(test_data_set, support_vectors.T)\n",
        "    #kernel = build_kernel(train_data_set, kernel_type='rbf')\n",
        "    c = (1. / sigma * np.sum(test_data_set ** 2, axis=1) * np.ones((1, np.shape(test_data_set)[0]))).T\n",
        "    c = np.dot(c, np.ones((1, np.shape(kernel)[1])))\n",
        "    #aa = np.dot((np.diag(K)*np.ones((1,len(test_data_set)))).T[support_vectors_id], np.ones((1, np.shape(K)[0]))).T\n",
        "    sv = (np.diag(np.dot(train_data_set, train_data_set.T))*np.ones((1,len(train_data_set)))).T[support_vectors_id]\n",
        "    aa = np.dot(sv,np.ones((1,np.shape(kernel)[0]))).T\n",
        "    kernel = kernel - 0.5 * c - 0.5 * aa\n",
        "    kernel = np.exp(kernel / (2. * sigma ** 2))\n",
        "\n",
        "    y = np.zeros((np.shape(test_data_set)[0], 1))\n",
        "    for j in range(np.shape(test_data_set)[0]):\n",
        "        for i in range(vector_number):\n",
        "            y[j] += lambdas[i] * targets[i] * kernel[j, i]\n",
        "        y[j] += b\n",
        "    return np.sign(y)"
      ],
      "execution_count": 28,
      "outputs": []
    },
    {
      "cell_type": "code",
      "metadata": {
        "colab": {
          "base_uri": "https://localhost:8080/"
        },
        "id": "yfBk4pSpsNIj",
        "outputId": "aa55076c-528a-4457-a6d9-6f2c7afc38b8"
      },
      "source": [
        "# modify this part \n",
        "\n",
        "data_set = data_set[labels != 2]\n",
        "labels = labels[labels != 2]\n",
        "train_data_set, test_data_set, train_labels, test_labels = choose_set_for_label(data_set, labels)\n",
        "objects_count = get_labels_count(train_labels)\n",
        "lambdas, support_vectors, support_vectors_id, b, targets, vector_number = train(train_data_set, train_labels, kernel_type='rbf')\n",
        "predicted = classify_rbf(test_data_set, train_data_set, lambdas, targets, b, vector_number, support_vectors, support_vectors_id)\n",
        "predicted = list(predicted.astype(int))\n",
        "\n",
        "from sklearn.metrics import accuracy_score\n",
        "\n",
        "print(accuracy_score(predicted, test_labels))"
      ],
      "execution_count": 29,
      "outputs": [
        {
          "output_type": "stream",
          "text": [
            "     pcost       dcost       gap    pres   dres\n",
            " 0: -3.3696e+03 -2.1055e+04  2e+05  4e+00  8e-15\n",
            " 1: -9.1498e+02 -1.5605e+04  3e+04  7e-01  5e-14\n",
            " 2: -2.7036e+02 -4.0718e+03  5e+03  5e-02  4e-14\n",
            " 3: -2.4353e+02 -4.8563e+02  3e+02  3e-03  2e-14\n",
            " 4: -3.6233e+02 -3.9156e+02  3e+01  2e-04  2e-14\n",
            " 5: -3.6992e+02 -3.7022e+02  3e-01  2e-06  1e-14\n",
            " 6: -3.7000e+02 -3.7000e+02  3e-03  2e-08  1e-14\n",
            " 7: -3.7000e+02 -3.7000e+02  3e-05  2e-10  1e-14\n",
            "Optimal solution found.\n",
            "0.52\n"
          ],
          "name": "stdout"
        }
      ]
    }
  ]
}
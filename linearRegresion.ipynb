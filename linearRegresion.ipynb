{
  "nbformat": 4,
  "nbformat_minor": 0,
  "metadata": {
    "colab": {
      "name": "Untitled2.ipynb",
      "provenance": [],
      "collapsed_sections": []
    },
    "kernelspec": {
      "name": "python3",
      "display_name": "Python 3"
    },
    "language_info": {
      "name": "python"
    }
  },
  "cells": [
    {
      "cell_type": "markdown",
      "metadata": {
        "id": "ZmZJ8MzVAWIE"
      },
      "source": [
        "**Excercise 1**"
      ]
    },
    {
      "cell_type": "code",
      "metadata": {
        "id": "2CxQB-ffAfUq"
      },
      "source": [
        "import matplotlib.pyplot as plt\n",
        "import numpy as np\n"
      ],
      "execution_count": 3,
      "outputs": []
    },
    {
      "cell_type": "code",
      "metadata": {
        "colab": {
          "base_uri": "https://localhost:8080/",
          "height": 265
        },
        "id": "ghtarR65ABrF",
        "outputId": "437699e4-0f18-4859-cc0d-c4c6ae9664d1"
      },
      "source": [
        "weights = np.array([141, 106, 149, 59, 79, 136, 65, 136, 52, 87, 115, 140, 82, 69, 121]).reshape(-1, 1)\n",
        "heights = np.array([188, 181, 197, 168, 167, 187, 178, 194, 140, 176, 168, 192, 173, 142, 176]).reshape(-1, 1)\n",
        "\n",
        "x = np.array([188, 181, 197, 168, 167, 187, 178, 194, 140, 176, 168, 192, 173, 142, 176]).reshape(-1, 1).reshape(15,1)\n",
        "y = np.array([141, 106, 149, 59, 79, 136, 65, 136, 52, 87, 115, 140, 82, 69, 121]).reshape(-1, 1).reshape(15,1)\n",
        "\n",
        "x = np.append(x, np.ones((15,1)), axis = 1)\n",
        "I = np.identity(2)\n",
        "alpha = [0.1, 0.3, 0.8]# change here\n",
        "\n",
        "result = []\n",
        "for a in alpha:\n",
        "  w = np.dot(np.linalg.inv(np.dot(np.transpose(x),x)+ a * I),np.dot(np.transpose(x),y))\n",
        "  w=w.ravel()\n",
        "  result.append(w)\n",
        "\n",
        "def reg_predict(inputs, w, b):\n",
        "    results = []\n",
        "    for inp in inputs:\n",
        "        results.append(inp*w+b)\n",
        "    return results\n",
        "\n",
        "plt.scatter(heights.flatten(), weights.flatten(),color='g')\n",
        "plt.plot(heights.flatten(), reg_predict(heights.flatten(), result[0][0], result[0][1]) ,label='alpha = 0.1',color='red')\n",
        "plt.plot(heights.flatten(), reg_predict(heights.flatten(), result[1][0], result[1][1]) ,label='alpha = 0.3' ,color='green')\n",
        "plt.plot(heights.flatten(), reg_predict(heights.flatten(), result[2][0], result[2][1]) ,label='alpha = 0.8', color='blue')\n",
        "\n",
        "plt.legend(loc='best')\n",
        "\n",
        "plt.show()"
      ],
      "execution_count": 4,
      "outputs": [
        {
          "output_type": "display_data",
          "data": {
            "image/png": "[encoded data removed]",
            "text/plain": [
              "<Figure size 432x288 with 1 Axes>"
            ]
          },
          "metadata": {
            "tags": [],
            "needs_background": "light"
          }
        }
      ]
    },
    {
      "cell_type": "markdown",
      "metadata": {
        "id": "iILCU7lIA8L7"
      },
      "source": [
        "**Exercise 2**"
      ]
    },
    {
      "cell_type": "code",
      "metadata": {
        "colab": {
          "base_uri": "https://localhost:8080/"
        },
        "id": "afLlX5yABB56",
        "outputId": "22652ee7-330a-49c3-91ac-e39c7d45421e"
      },
      "source": [
        "def sgd(W, X, y, lr=0.05, epochs=10, batch_size=1):\n",
        "    norm = np.linalg.norm(x, axis=0)\n",
        "\n",
        "    \n",
        "    for i in range(epochs):\n",
        "        x = X[:,1].reshape(-1,1)\n",
        "        y_p = x * w[0] + w[1]\n",
        "        dt = y - y_p\n",
        "        dtW = -2*x.T.dot(dt) / norm[1]**2\n",
        "        dtB = -2*np.sum(y-y_pred)//norm[0]**2\n",
        "        w[0] -= lr * dtW\n",
        "        w[1] -= lr* dtB\n",
        "    \n",
        "    return w\n",
        "\n",
        "\n",
        "x = np.array([188, 181, 197, 168, 167, 187, 178, 194, 140, 176, 168, 192, 173, 142, 176]).reshape(-1, 1).reshape(15,1)\n",
        "y = np.array([141, 106, 149, 59, 79, 136, 65, 136, 52, 87, 115, 140, 82, 69, 121]).reshape(-1, 1).reshape(15,1)\n",
        "\n",
        "x = np.asmatrix(np.c_[np.ones((15,1)),x])\n",
        "\n",
        "I = np.identity(2)\n",
        "alpha = 0.1 \n",
        "\n",
        "\n",
        "w = np.linalg.inv(x.T*x + alpha * I)*x.T*y # update this line\n",
        "w=w.ravel()\n",
        "\n",
        "print(w[0,1],  w[0,0])"
      ],
      "execution_count": 5,
      "outputs": [
        {
          "output_type": "stream",
          "text": [
            "1.169787574869769 -101.72397080681458\n"
          ],
          "name": "stdout"
        }
      ]
    }
  ]
}